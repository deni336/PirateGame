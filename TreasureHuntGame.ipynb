{
 "cells": [
  {
   "cell_type": "markdown",
   "metadata": {},
   "source": [
    "# Treasure Hunt Game Notebook\n",
    "\n",
    "## Read and Review Your Starter Code\n",
    "The theme of this project is a popular treasure hunt game in which the player needs to find the treasure before the pirate does. While you will not be developing the entire game, you will write the part of the game that represents the intelligent agent, which is a pirate in this case. The pirate will try to find the optimal path to the treasure using deep Q-learning. \n",
    "\n",
    "You have been provided with two Python classes and this notebook to help you with this assignment. The first class, TreasureMaze.py, represents the environment, which includes a maze object defined as a matrix. The second class, GameExperience.py, stores the episodes – that is, all the states that come in between the initial state and the terminal state. This is later used by the agent for learning by experience, called \"exploration\". This notebook shows how to play a game. Your task is to complete the deep Q-learning implementation for which a skeleton implementation has been provided. The code blocks you will need to complete has #TODO as a header.\n",
    "\n",
    "First, read and review the next few code and instruction blocks to understand the code that you have been given."
   ]
  },
  {
   "cell_type": "code",
   "execution_count": 12,
   "metadata": {},
   "outputs": [],
   "source": [
    "from __future__ import print_function\n",
    "import os, sys, time, datetime, json, random\n",
    "import numpy as np\n",
    "from keras.models import Sequential\n",
    "from keras.layers.core import Dense, Activation\n",
    "from keras.optimizers import SGD , Adam, RMSprop\n",
    "from keras.layers.advanced_activations import PReLU\n",
    "import matplotlib.pyplot as plt\n",
    "from TreasureMaze import TreasureMaze\n",
    "from GameExperience import GameExperience\n",
    "%matplotlib inline"
   ]
  },
  {
   "cell_type": "markdown",
   "metadata": {},
   "source": [
    "The following code block contains an 8x8 matrix that will be used as a maze object:"
   ]
  },
  {
   "cell_type": "code",
   "execution_count": 13,
   "metadata": {},
   "outputs": [],
   "source": [
    "maze = np.array([\n",
    "    [ 1.,  0.,  1.,  1.,  1.,  1.,  1.,  1.],\n",
    "    [ 1.,  0.,  1.,  1.,  1.,  0.,  1.,  1.],\n",
    "    [ 1.,  1.,  1.,  1.,  0.,  1.,  0.,  1.],\n",
    "    [ 1.,  1.,  1.,  0.,  1.,  1.,  1.,  1.],\n",
    "    [ 1.,  1.,  0.,  1.,  1.,  1.,  1.,  1.],\n",
    "    [ 1.,  1.,  1.,  0.,  1.,  0.,  0.,  0.],\n",
    "    [ 1.,  1.,  1.,  0.,  1.,  1.,  1.,  1.],\n",
    "    [ 1.,  1.,  1.,  1.,  0.,  1.,  1.,  1.]\n",
    "])"
   ]
  },
  {
   "cell_type": "markdown",
   "metadata": {},
   "source": [
    "This helper function allows a visual representation of the maze object:"
   ]
  },
  {
   "cell_type": "code",
   "execution_count": 14,
   "metadata": {},
   "outputs": [],
   "source": [
    "def show(qmaze):\n",
    "    plt.grid('on')\n",
    "    nrows, ncols = qmaze.maze.shape\n",
    "    ax = plt.gca()\n",
    "    ax.set_xticks(np.arange(0.5, nrows, 1))\n",
    "    ax.set_yticks(np.arange(0.5, ncols, 1))\n",
    "    ax.set_xticklabels([])\n",
    "    ax.set_yticklabels([])\n",
    "    canvas = np.copy(qmaze.maze)\n",
    "    for row,col in qmaze.visited:\n",
    "        canvas[row,col] = 0.6\n",
    "    pirate_row, pirate_col, _ = qmaze.state\n",
    "    canvas[pirate_row, pirate_col] = 0.3   # pirate cell\n",
    "    canvas[nrows-1, ncols-1] = 0.9 # treasure cell\n",
    "    img = plt.imshow(canvas, interpolation='none', cmap='gray')\n",
    "    return img"
   ]
  },
  {
   "cell_type": "markdown",
   "metadata": {},
   "source": [
    "The pirate agent can move in four directions: left, right, up, and down. \n",
    "\n",
    "While the agent primarily learns by experience through exploitation, often, the agent can choose to explore the environment to find previously undiscovered paths. This is called \"exploration\" and is defined by epsilon. This value is typically a lower value such as 0.1, which means for every ten attempts, the agent will attempt to learn by experience nine times and will randomly explore a new path one time. You are encouraged to try various values for the exploration factor and see how the algorithm performs."
   ]
  },
  {
   "cell_type": "code",
   "execution_count": 15,
   "metadata": {},
   "outputs": [],
   "source": [
    "LEFT = 0\n",
    "UP = 1\n",
    "RIGHT = 2\n",
    "DOWN = 3\n",
    "\n",
    "\n",
    "# Exploration factor\n",
    "epsilon = 0.1\n",
    "\n",
    "# Actions dictionary\n",
    "actions_dict = {\n",
    "    LEFT: 'left',\n",
    "    UP: 'up',\n",
    "    RIGHT: 'right',\n",
    "    DOWN: 'down',\n",
    "}\n",
    "\n",
    "num_actions = len(actions_dict)\n"
   ]
  },
  {
   "cell_type": "markdown",
   "metadata": {},
   "source": [
    "The sample code block and output below show creating a maze object and performing one action (DOWN), which returns the reward. The resulting updated environment is visualized."
   ]
  },
  {
   "cell_type": "code",
   "execution_count": 16,
   "metadata": {},
   "outputs": [
    {
     "name": "stdout",
     "output_type": "stream",
     "text": [
      "reward= -0.04\n"
     ]
    },
    {
     "data": {
      "text/plain": [
       "<matplotlib.image.AxesImage at 0x28f476e8888>"
      ]
     },
     "execution_count": 16,
     "metadata": {},
     "output_type": "execute_result"
    },
    {
     "data": {
      "image/png": "[encoded data removed]",
      "text/plain": [
       "<Figure size 432x288 with 1 Axes>"
      ]
     },
     "metadata": {
      "needs_background": "light"
     },
     "output_type": "display_data"
    }
   ],
   "source": [
    "qmaze = TreasureMaze(maze)\n",
    "canvas, reward, game_over = qmaze.act(DOWN)\n",
    "print(\"reward=\", reward)\n",
    "show(qmaze)"
   ]
  },
  {
   "cell_type": "markdown",
   "metadata": {},
   "source": [
    "This function simulates a full game based on the provided trained model. The other parameters include the TreasureMaze object and the starting position of the pirate."
   ]
  },
  {
   "cell_type": "code",
   "execution_count": 17,
   "metadata": {},
   "outputs": [],
   "source": [
    "def play_game(model, qmaze, pirate_cell):\n",
    "    qmaze.reset(pirate_cell)\n",
    "    envstate = qmaze.observe()\n",
    "    while True:\n",
    "        prev_envstate = envstate\n",
    "        # get next action\n",
    "        q = model.predict(prev_envstate)\n",
    "        action = np.argmax(q[0])\n",
    "\n",
    "        # apply action, get rewards and new state\n",
    "        envstate, reward, game_status = qmaze.act(action)\n",
    "        if game_status == 'win':\n",
    "            return True\n",
    "        elif game_status == 'lose':\n",
    "            return False"
   ]
  },
  {
   "cell_type": "markdown",
   "metadata": {},
   "source": [
    "This function helps you to determine whether the pirate can win any game at all. If your maze is not well designed, the pirate may not win any game at all. In this case, your training would not yield any result. The provided maze in this notebook ensures that there is a path to win and you can run this method to check."
   ]
  },
  {
   "cell_type": "code",
   "execution_count": 18,
   "metadata": {},
   "outputs": [],
   "source": [
    "def completion_check(model, qmaze):\n",
    "    for cell in qmaze.free_cells:\n",
    "        if not qmaze.valid_actions(cell):\n",
    "            return False\n",
    "        if not play_game(model, qmaze, cell):\n",
    "            return False\n",
    "    return True"
   ]
  },
  {
   "cell_type": "markdown",
   "metadata": {},
   "source": [
    "The code you have been given in this block will build the neural network model. Review the code and note the number of layers, as well as the activation, optimizer, and loss functions that are used to train the model."
   ]
  },
  {
   "cell_type": "code",
   "execution_count": 19,
   "metadata": {},
   "outputs": [],
   "source": [
    "def build_model(maze):\n",
    "    model = Sequential()\n",
    "    model.add(Dense(maze.size, input_shape=(maze.size,)))\n",
    "    model.add(PReLU())\n",
    "    model.add(Dense(maze.size))\n",
    "    model.add(PReLU())\n",
    "    model.add(Dense(num_actions))\n",
    "    model.compile(optimizer='adam', loss='mse')\n",
    "    return model"
   ]
  },
  {
   "cell_type": "markdown",
   "metadata": {},
   "source": [
    "# #TODO: Complete the Q-Training Algorithm Code Block\n",
    "\n",
    "This is your deep Q-learning implementation. The goal of your deep Q-learning implementation is to find the best possible navigation sequence that results in reaching the treasure cell while maximizing the reward. In your implementation, you need to determine the optimal number of epochs to achieve a 100% win rate.\n",
    "\n",
    "You will need to complete the section starting with #pseudocode. The pseudocode has been included for you."
   ]
  },
  {
   "cell_type": "code",
   "execution_count": 20,
   "metadata": {},
   "outputs": [],
   "source": [
    "def qtrain(model, maze, **opt):\n",
    "    global epsilon\n",
    "    \n",
    "    n_epoch = opt.get('n_epoch', 1000)\n",
    "    max_memory = opt.get('max_memory', 1000)\n",
    "    data_size = opt.get('data_size', 50)\n",
    "    \n",
    "    start_time = datetime.datetime.now()\n",
    "    qmaze = TreasureMaze(maze)\n",
    "    experience = GameExperience(model, max_memory=max_memory)\n",
    "    \n",
    "    win_history = []\n",
    "    hsize = qmaze.maze.size // 2\n",
    "    win_rate = 0.0\n",
    "    \n",
    "    for epoch in range(n_epoch):\n",
    "        agent_cell = random.choice(qmaze.free_cells)\n",
    "        qmaze.reset(agent_cell)\n",
    "        envstate = qmaze.observe()\n",
    "        \n",
    "        n_episodes = 0\n",
    "        while True:\n",
    "            prev_envstate = envstate\n",
    "            \n",
    "            if np.random.rand() < epsilon:\n",
    "                action = random.choice(qmaze.valid_actions())\n",
    "            else:\n",
    "                q_values = model.predict(prev_envstate)[0]\n",
    "                action = np.argmax(q_values)\n",
    "            \n",
    "            envstate, reward, game_status = qmaze.act(action)\n",
    "            episode = [prev_envstate, action, reward, envstate, game_status]\n",
    "            experience.remember(episode)\n",
    "            \n",
    "            inputs, targets = experience.get_data(data_size)\n",
    "            loss = model.train_on_batch(inputs, targets)\n",
    "            \n",
    "            if game_status == 'win':\n",
    "                win_history.append(1)\n",
    "                break\n",
    "            elif game_status == 'lose':\n",
    "                win_history.append(0)\n",
    "                break\n",
    "            \n",
    "            n_episodes += 1\n",
    "        \n",
    "        win_rate = sum(win_history[-hsize:]) / hsize if len(win_history) >= hsize else 0.0\n",
    "        \n",
    "        print(f\"Epoch: {epoch}/{n_epoch-1} | Loss: {loss:.4f} | Episodes: {n_episodes} | Win rate: {win_rate:.3f}\")\n",
    "        \n",
    "        if win_rate > 0.9:\n",
    "            epsilon = 0.05\n",
    "        if sum(win_history[-hsize:]) == hsize and completion_check(model, qmaze):\n",
    "            print(f\"Reached 100% win rate at epoch {epoch}\")\n",
    "            break\n",
    "    \n",
    "    total_time = datetime.datetime.now() - start_time\n",
    "    print(f\"Training completed in {total_time.total_seconds()} seconds.\")\n",
    "    return total_time.total_seconds()\n"
   ]
  },
  {
   "cell_type": "markdown",
   "metadata": {},
   "source": [
    "## Test Your Model\n",
    "\n",
    "Now we will start testing the deep Q-learning implementation. To begin, select **Cell**, then **Run All** from the menu bar. This will run your notebook. As it runs, you should see output begin to appear beneath the next few cells. The code below creates an instance of TreasureMaze."
   ]
  },
  {
   "cell_type": "code",
   "execution_count": 21,
   "metadata": {},
   "outputs": [
    {
     "data": {
      "text/plain": [
       "<matplotlib.image.AxesImage at 0x28f47715388>"
      ]
     },
     "execution_count": 21,
     "metadata": {},
     "output_type": "execute_result"
    },
    {
     "data": {
      "image/png": "[encoded data removed]",
      "text/plain": [
       "<Figure size 432x288 with 1 Axes>"
      ]
     },
     "metadata": {
      "needs_background": "light"
     },
     "output_type": "display_data"
    }
   ],
   "source": [
    "qmaze = TreasureMaze(maze)\n",
    "show(qmaze)"
   ]
  },
  {
   "cell_type": "markdown",
   "metadata": {},
   "source": [
    "In the next code block, you will build your model and train it using deep Q-learning. Note: This step takes several minutes to fully run."
   ]
  },
  {
   "cell_type": "code",
   "execution_count": 22,
   "metadata": {},
   "outputs": [
    {
     "name": "stdout",
     "output_type": "stream",
     "text": [
      "Epoch: 0/999 | Loss: 0.0016 | Episodes: 140 | Win rate: 0.000\n",
      "Epoch: 1/999 | Loss: 0.0012 | Episodes: 135 | Win rate: 0.000\n",
      "Epoch: 2/999 | Loss: 0.0006 | Episodes: 131 | Win rate: 0.000\n",
      "Epoch: 3/999 | Loss: 0.0013 | Episodes: 138 | Win rate: 0.000\n",
      "Epoch: 4/999 | Loss: 0.0008 | Episodes: 138 | Win rate: 0.000\n",
      "Epoch: 5/999 | Loss: 0.0005 | Episodes: 12 | Win rate: 0.000\n",
      "Epoch: 6/999 | Loss: 0.0013 | Episodes: 146 | Win rate: 0.000\n",
      "Epoch: 7/999 | Loss: 0.0010 | Episodes: 136 | Win rate: 0.000\n",
      "Epoch: 8/999 | Loss: 0.0008 | Episodes: 143 | Win rate: 0.000\n",
      "Epoch: 9/999 | Loss: 0.0004 | Episodes: 142 | Win rate: 0.000\n",
      "Epoch: 10/999 | Loss: 0.0011 | Episodes: 138 | Win rate: 0.000\n",
      "Epoch: 11/999 | Loss: 0.0009 | Episodes: 133 | Win rate: 0.000\n",
      "Epoch: 12/999 | Loss: 0.0006 | Episodes: 134 | Win rate: 0.000\n",
      "Epoch: 13/999 | Loss: 0.0006 | Episodes: 142 | Win rate: 0.000\n",
      "Epoch: 14/999 | Loss: 0.0013 | Episodes: 143 | Win rate: 0.000\n",
      "Epoch: 15/999 | Loss: 0.0010 | Episodes: 133 | Win rate: 0.000\n",
      "Epoch: 16/999 | Loss: 0.0002 | Episodes: 148 | Win rate: 0.000\n",
      "Epoch: 17/999 | Loss: 0.0013 | Episodes: 143 | Win rate: 0.000\n",
      "Epoch: 18/999 | Loss: 0.0017 | Episodes: 141 | Win rate: 0.000\n",
      "Epoch: 19/999 | Loss: 0.0006 | Episodes: 135 | Win rate: 0.000\n",
      "Epoch: 20/999 | Loss: 0.0015 | Episodes: 147 | Win rate: 0.000\n",
      "Epoch: 21/999 | Loss: 0.0011 | Episodes: 146 | Win rate: 0.000\n",
      "Epoch: 22/999 | Loss: 0.0018 | Episodes: 148 | Win rate: 0.000\n",
      "Epoch: 23/999 | Loss: 0.0015 | Episodes: 38 | Win rate: 0.000\n",
      "Epoch: 24/999 | Loss: 0.0011 | Episodes: 9 | Win rate: 0.000\n",
      "Epoch: 25/999 | Loss: 0.0019 | Episodes: 30 | Win rate: 0.000\n",
      "Epoch: 26/999 | Loss: 0.0017 | Episodes: 142 | Win rate: 0.000\n",
      "Epoch: 27/999 | Loss: 0.0012 | Episodes: 136 | Win rate: 0.000\n",
      "Epoch: 28/999 | Loss: 0.0075 | Episodes: 141 | Win rate: 0.000\n",
      "Epoch: 29/999 | Loss: 0.0010 | Episodes: 139 | Win rate: 0.000\n",
      "Epoch: 30/999 | Loss: 0.0019 | Episodes: 153 | Win rate: 0.000\n",
      "Epoch: 31/999 | Loss: 0.0012 | Episodes: 141 | Win rate: 0.125\n",
      "Epoch: 32/999 | Loss: 0.0012 | Episodes: 5 | Win rate: 0.156\n",
      "Epoch: 33/999 | Loss: 0.0018 | Episodes: 149 | Win rate: 0.156\n",
      "Epoch: 34/999 | Loss: 0.0020 | Episodes: 56 | Win rate: 0.188\n",
      "Epoch: 35/999 | Loss: 0.0012 | Episodes: 143 | Win rate: 0.188\n",
      "Epoch: 36/999 | Loss: 0.0017 | Episodes: 140 | Win rate: 0.188\n",
      "Epoch: 37/999 | Loss: 0.0013 | Episodes: 141 | Win rate: 0.156\n",
      "Epoch: 38/999 | Loss: 0.0009 | Episodes: 146 | Win rate: 0.156\n",
      "Epoch: 39/999 | Loss: 0.0012 | Episodes: 141 | Win rate: 0.156\n",
      "Epoch: 40/999 | Loss: 0.0011 | Episodes: 142 | Win rate: 0.156\n",
      "Epoch: 41/999 | Loss: 0.0009 | Episodes: 160 | Win rate: 0.156\n",
      "Epoch: 42/999 | Loss: 0.0013 | Episodes: 138 | Win rate: 0.156\n",
      "Epoch: 43/999 | Loss: 0.0012 | Episodes: 143 | Win rate: 0.156\n",
      "Epoch: 44/999 | Loss: 0.0004 | Episodes: 143 | Win rate: 0.156\n",
      "Epoch: 45/999 | Loss: 0.0011 | Episodes: 140 | Win rate: 0.156\n",
      "Epoch: 46/999 | Loss: 0.0003 | Episodes: 30 | Win rate: 0.188\n",
      "Epoch: 47/999 | Loss: 0.0012 | Episodes: 135 | Win rate: 0.188\n",
      "Epoch: 48/999 | Loss: 0.0014 | Episodes: 145 | Win rate: 0.188\n",
      "Epoch: 49/999 | Loss: 0.0013 | Episodes: 140 | Win rate: 0.188\n",
      "Epoch: 50/999 | Loss: 0.0008 | Episodes: 141 | Win rate: 0.188\n",
      "Epoch: 51/999 | Loss: 0.0021 | Episodes: 129 | Win rate: 0.188\n",
      "Epoch: 52/999 | Loss: 0.0006 | Episodes: 147 | Win rate: 0.188\n",
      "Epoch: 53/999 | Loss: 0.0007 | Episodes: 143 | Win rate: 0.188\n",
      "Epoch: 54/999 | Loss: 0.0013 | Episodes: 155 | Win rate: 0.188\n",
      "Epoch: 55/999 | Loss: 0.0014 | Episodes: 11 | Win rate: 0.188\n",
      "Epoch: 56/999 | Loss: 0.0027 | Episodes: 155 | Win rate: 0.156\n",
      "Epoch: 57/999 | Loss: 0.0010 | Episodes: 89 | Win rate: 0.156\n",
      "Epoch: 58/999 | Loss: 0.0116 | Episodes: 139 | Win rate: 0.156\n",
      "Epoch: 59/999 | Loss: 0.0021 | Episodes: 3 | Win rate: 0.188\n",
      "Epoch: 60/999 | Loss: 0.0012 | Episodes: 27 | Win rate: 0.219\n",
      "Epoch: 61/999 | Loss: 0.0102 | Episodes: 22 | Win rate: 0.250\n",
      "Epoch: 62/999 | Loss: 0.0015 | Episodes: 141 | Win rate: 0.250\n",
      "Epoch: 63/999 | Loss: 0.0013 | Episodes: 138 | Win rate: 0.250\n",
      "Epoch: 64/999 | Loss: 0.0007 | Episodes: 1 | Win rate: 0.250\n",
      "Epoch: 65/999 | Loss: 0.0011 | Episodes: 144 | Win rate: 0.250\n",
      "Epoch: 66/999 | Loss: 0.0014 | Episodes: 20 | Win rate: 0.250\n",
      "Epoch: 67/999 | Loss: 0.0009 | Episodes: 145 | Win rate: 0.250\n",
      "Epoch: 68/999 | Loss: 0.0015 | Episodes: 158 | Win rate: 0.250\n",
      "Epoch: 69/999 | Loss: 0.0012 | Episodes: 145 | Win rate: 0.250\n",
      "Epoch: 70/999 | Loss: 0.0015 | Episodes: 146 | Win rate: 0.250\n",
      "Epoch: 71/999 | Loss: 0.0009 | Episodes: 152 | Win rate: 0.250\n",
      "Epoch: 72/999 | Loss: 0.0010 | Episodes: 143 | Win rate: 0.250\n",
      "Epoch: 73/999 | Loss: 0.0014 | Episodes: 134 | Win rate: 0.250\n",
      "Epoch: 74/999 | Loss: 0.0010 | Episodes: 137 | Win rate: 0.250\n",
      "Epoch: 75/999 | Loss: 0.0016 | Episodes: 140 | Win rate: 0.250\n",
      "Epoch: 76/999 | Loss: 0.0006 | Episodes: 142 | Win rate: 0.250\n",
      "Epoch: 77/999 | Loss: 0.0014 | Episodes: 143 | Win rate: 0.250\n",
      "Epoch: 78/999 | Loss: 0.0010 | Episodes: 147 | Win rate: 0.219\n",
      "Epoch: 79/999 | Loss: 0.0013 | Episodes: 144 | Win rate: 0.219\n",
      "Epoch: 80/999 | Loss: 0.0011 | Episodes: 144 | Win rate: 0.219\n",
      "Epoch: 81/999 | Loss: 0.0010 | Episodes: 146 | Win rate: 0.219\n",
      "Epoch: 82/999 | Loss: 0.0003 | Episodes: 138 | Win rate: 0.219\n",
      "Epoch: 83/999 | Loss: 0.0017 | Episodes: 26 | Win rate: 0.250\n",
      "Epoch: 84/999 | Loss: 0.0009 | Episodes: 138 | Win rate: 0.250\n",
      "Epoch: 85/999 | Loss: 0.0008 | Episodes: 6 | Win rate: 0.281\n",
      "Epoch: 86/999 | Loss: 0.0005 | Episodes: 138 | Win rate: 0.281\n",
      "Epoch: 87/999 | Loss: 0.0004 | Episodes: 137 | Win rate: 0.250\n",
      "Epoch: 88/999 | Loss: 0.0005 | Episodes: 11 | Win rate: 0.281\n",
      "Epoch: 89/999 | Loss: 0.0006 | Episodes: 135 | Win rate: 0.250\n",
      "Epoch: 90/999 | Loss: 0.0012 | Episodes: 144 | Win rate: 0.250\n",
      "Epoch: 91/999 | Loss: 0.0005 | Episodes: 148 | Win rate: 0.219\n",
      "Epoch: 92/999 | Loss: 0.0011 | Episodes: 16 | Win rate: 0.219\n",
      "Epoch: 93/999 | Loss: 0.0009 | Episodes: 4 | Win rate: 0.219\n",
      "Epoch: 94/999 | Loss: 0.0014 | Episodes: 140 | Win rate: 0.219\n",
      "Epoch: 95/999 | Loss: 0.0015 | Episodes: 145 | Win rate: 0.219\n",
      "Epoch: 96/999 | Loss: 0.0013 | Episodes: 139 | Win rate: 0.188\n",
      "Epoch: 97/999 | Loss: 0.0007 | Episodes: 57 | Win rate: 0.219\n",
      "Epoch: 98/999 | Loss: 0.0099 | Episodes: 104 | Win rate: 0.219\n",
      "Epoch: 99/999 | Loss: 0.0013 | Episodes: 134 | Win rate: 0.219\n",
      "Epoch: 100/999 | Loss: 0.0009 | Episodes: 142 | Win rate: 0.219\n",
      "Epoch: 101/999 | Loss: 0.0004 | Episodes: 144 | Win rate: 0.219\n",
      "Epoch: 102/999 | Loss: 0.0005 | Episodes: 135 | Win rate: 0.219\n",
      "Epoch: 103/999 | Loss: 0.0005 | Episodes: 133 | Win rate: 0.219\n",
      "Epoch: 104/999 | Loss: 0.0003 | Episodes: 44 | Win rate: 0.250\n",
      "Epoch: 105/999 | Loss: 0.0010 | Episodes: 140 | Win rate: 0.250\n",
      "Epoch: 106/999 | Loss: 0.0009 | Episodes: 25 | Win rate: 0.281\n",
      "Epoch: 107/999 | Loss: 0.0013 | Episodes: 20 | Win rate: 0.312\n",
      "Epoch: 108/999 | Loss: 0.0011 | Episodes: 143 | Win rate: 0.312\n",
      "Epoch: 109/999 | Loss: 0.0012 | Episodes: 8 | Win rate: 0.344\n",
      "Epoch: 110/999 | Loss: 0.0010 | Episodes: 26 | Win rate: 0.375\n",
      "Epoch: 111/999 | Loss: 0.0015 | Episodes: 145 | Win rate: 0.375\n",
      "Epoch: 112/999 | Loss: 0.0022 | Episodes: 144 | Win rate: 0.375\n",
      "Epoch: 113/999 | Loss: 0.0015 | Episodes: 2 | Win rate: 0.406\n",
      "Epoch: 114/999 | Loss: 0.0012 | Episodes: 140 | Win rate: 0.406\n",
      "Epoch: 115/999 | Loss: 0.0018 | Episodes: 2 | Win rate: 0.406\n",
      "Epoch: 116/999 | Loss: 0.0011 | Episodes: 6 | Win rate: 0.438\n",
      "Epoch: 117/999 | Loss: 0.0080 | Episodes: 13 | Win rate: 0.438\n",
      "Epoch: 118/999 | Loss: 0.0014 | Episodes: 138 | Win rate: 0.438\n",
      "Epoch: 119/999 | Loss: 0.0008 | Episodes: 146 | Win rate: 0.438\n",
      "Epoch: 120/999 | Loss: 0.0015 | Episodes: 16 | Win rate: 0.438\n",
      "Epoch: 121/999 | Loss: 0.0019 | Episodes: 140 | Win rate: 0.438\n",
      "Epoch: 122/999 | Loss: 0.0009 | Episodes: 152 | Win rate: 0.438\n",
      "Epoch: 123/999 | Loss: 0.0016 | Episodes: 150 | Win rate: 0.438\n",
      "Epoch: 124/999 | Loss: 0.0006 | Episodes: 143 | Win rate: 0.406\n",
      "Epoch: 125/999 | Loss: 0.0004 | Episodes: 140 | Win rate: 0.375\n",
      "Epoch: 126/999 | Loss: 0.0010 | Episodes: 142 | Win rate: 0.375\n",
      "Epoch: 127/999 | Loss: 0.0007 | Episodes: 28 | Win rate: 0.406\n",
      "Epoch: 128/999 | Loss: 0.0009 | Episodes: 135 | Win rate: 0.406\n",
      "Epoch: 129/999 | Loss: 0.0007 | Episodes: 136 | Win rate: 0.375\n",
      "Epoch: 130/999 | Loss: 0.0006 | Episodes: 138 | Win rate: 0.344\n"
     ]
    },
    {
     "name": "stdout",
     "output_type": "stream",
     "text": [
      "Epoch: 131/999 | Loss: 0.0004 | Episodes: 139 | Win rate: 0.344\n",
      "Epoch: 132/999 | Loss: 0.0010 | Episodes: 138 | Win rate: 0.344\n",
      "Epoch: 133/999 | Loss: 0.0009 | Episodes: 146 | Win rate: 0.344\n",
      "Epoch: 134/999 | Loss: 0.0004 | Episodes: 1 | Win rate: 0.375\n",
      "Epoch: 135/999 | Loss: 0.0009 | Episodes: 141 | Win rate: 0.375\n",
      "Epoch: 136/999 | Loss: 0.0017 | Episodes: 66 | Win rate: 0.375\n",
      "Epoch: 137/999 | Loss: 0.0017 | Episodes: 143 | Win rate: 0.375\n",
      "Epoch: 138/999 | Loss: 0.0006 | Episodes: 8 | Win rate: 0.375\n",
      "Epoch: 139/999 | Loss: 0.0013 | Episodes: 138 | Win rate: 0.344\n",
      "Epoch: 140/999 | Loss: 0.0008 | Episodes: 54 | Win rate: 0.375\n",
      "Epoch: 141/999 | Loss: 0.0015 | Episodes: 148 | Win rate: 0.344\n",
      "Epoch: 142/999 | Loss: 0.0011 | Episodes: 143 | Win rate: 0.312\n",
      "Epoch: 143/999 | Loss: 0.0017 | Episodes: 20 | Win rate: 0.344\n",
      "Epoch: 144/999 | Loss: 0.0020 | Episodes: 2 | Win rate: 0.375\n",
      "Epoch: 145/999 | Loss: 0.0013 | Episodes: 147 | Win rate: 0.344\n",
      "Epoch: 146/999 | Loss: 0.0010 | Episodes: 147 | Win rate: 0.344\n",
      "Epoch: 147/999 | Loss: 0.0008 | Episodes: 147 | Win rate: 0.312\n",
      "Epoch: 148/999 | Loss: 0.0009 | Episodes: 145 | Win rate: 0.281\n",
      "Epoch: 149/999 | Loss: 0.0009 | Episodes: 144 | Win rate: 0.250\n",
      "Epoch: 150/999 | Loss: 0.0008 | Episodes: 137 | Win rate: 0.250\n",
      "Epoch: 151/999 | Loss: 0.0004 | Episodes: 138 | Win rate: 0.250\n",
      "Epoch: 152/999 | Loss: 0.0010 | Episodes: 144 | Win rate: 0.219\n",
      "Epoch: 153/999 | Loss: 0.0009 | Episodes: 137 | Win rate: 0.219\n",
      "Epoch: 154/999 | Loss: 0.0009 | Episodes: 0 | Win rate: 0.250\n",
      "Epoch: 155/999 | Loss: 0.0019 | Episodes: 147 | Win rate: 0.250\n",
      "Epoch: 156/999 | Loss: 0.0011 | Episodes: 1 | Win rate: 0.281\n",
      "Epoch: 157/999 | Loss: 0.0021 | Episodes: 59 | Win rate: 0.312\n",
      "Epoch: 158/999 | Loss: 0.0006 | Episodes: 72 | Win rate: 0.344\n",
      "Epoch: 159/999 | Loss: 0.0023 | Episodes: 96 | Win rate: 0.344\n",
      "Epoch: 160/999 | Loss: 0.0009 | Episodes: 6 | Win rate: 0.375\n",
      "Epoch: 161/999 | Loss: 0.0017 | Episodes: 28 | Win rate: 0.406\n",
      "Epoch: 162/999 | Loss: 0.0016 | Episodes: 150 | Win rate: 0.406\n",
      "Epoch: 163/999 | Loss: 0.0020 | Episodes: 153 | Win rate: 0.438\n",
      "Epoch: 164/999 | Loss: 0.0013 | Episodes: 143 | Win rate: 0.438\n",
      "Epoch: 165/999 | Loss: 0.0012 | Episodes: 55 | Win rate: 0.469\n",
      "Epoch: 166/999 | Loss: 0.0013 | Episodes: 5 | Win rate: 0.469\n",
      "Epoch: 167/999 | Loss: 0.0012 | Episodes: 22 | Win rate: 0.500\n",
      "Epoch: 168/999 | Loss: 0.0011 | Episodes: 18 | Win rate: 0.500\n",
      "Epoch: 169/999 | Loss: 0.0020 | Episodes: 48 | Win rate: 0.531\n",
      "Epoch: 170/999 | Loss: 0.0017 | Episodes: 16 | Win rate: 0.531\n",
      "Epoch: 171/999 | Loss: 0.0009 | Episodes: 14 | Win rate: 0.562\n",
      "Epoch: 172/999 | Loss: 0.0014 | Episodes: 0 | Win rate: 0.562\n",
      "Epoch: 173/999 | Loss: 0.0011 | Episodes: 14 | Win rate: 0.594\n",
      "Epoch: 174/999 | Loss: 0.0024 | Episodes: 22 | Win rate: 0.625\n",
      "Epoch: 175/999 | Loss: 0.0015 | Episodes: 26 | Win rate: 0.625\n",
      "Epoch: 176/999 | Loss: 0.0017 | Episodes: 3 | Win rate: 0.625\n",
      "Epoch: 177/999 | Loss: 0.0012 | Episodes: 141 | Win rate: 0.625\n",
      "Epoch: 178/999 | Loss: 0.0018 | Episodes: 142 | Win rate: 0.625\n",
      "Epoch: 179/999 | Loss: 0.0013 | Episodes: 138 | Win rate: 0.625\n",
      "Epoch: 180/999 | Loss: 0.0014 | Episodes: 4 | Win rate: 0.656\n",
      "Epoch: 181/999 | Loss: 0.0011 | Episodes: 23 | Win rate: 0.688\n",
      "Epoch: 182/999 | Loss: 0.0006 | Episodes: 18 | Win rate: 0.719\n",
      "Epoch: 183/999 | Loss: 0.0011 | Episodes: 22 | Win rate: 0.750\n",
      "Epoch: 184/999 | Loss: 0.0010 | Episodes: 137 | Win rate: 0.750\n",
      "Epoch: 185/999 | Loss: 0.0018 | Episodes: 1 | Win rate: 0.781\n",
      "Epoch: 186/999 | Loss: 0.0009 | Episodes: 6 | Win rate: 0.781\n",
      "Epoch: 187/999 | Loss: 0.0009 | Episodes: 103 | Win rate: 0.812\n",
      "Epoch: 188/999 | Loss: 0.0012 | Episodes: 29 | Win rate: 0.812\n",
      "Epoch: 189/999 | Loss: 0.0012 | Episodes: 131 | Win rate: 0.781\n",
      "Epoch: 190/999 | Loss: 0.0007 | Episodes: 50 | Win rate: 0.781\n",
      "Epoch: 191/999 | Loss: 0.0011 | Episodes: 141 | Win rate: 0.750\n",
      "Epoch: 192/999 | Loss: 0.0012 | Episodes: 23 | Win rate: 0.750\n",
      "Epoch: 193/999 | Loss: 0.0011 | Episodes: 27 | Win rate: 0.750\n",
      "Epoch: 194/999 | Loss: 0.0013 | Episodes: 63 | Win rate: 0.781\n",
      "Epoch: 195/999 | Loss: 0.0012 | Episodes: 35 | Win rate: 0.781\n",
      "Epoch: 196/999 | Loss: 0.0011 | Episodes: 22 | Win rate: 0.812\n",
      "Epoch: 197/999 | Loss: 0.0013 | Episodes: 12 | Win rate: 0.812\n",
      "Epoch: 198/999 | Loss: 0.0015 | Episodes: 111 | Win rate: 0.812\n",
      "Epoch: 199/999 | Loss: 0.0013 | Episodes: 10 | Win rate: 0.812\n",
      "Epoch: 200/999 | Loss: 0.0011 | Episodes: 11 | Win rate: 0.812\n",
      "Epoch: 201/999 | Loss: 0.0011 | Episodes: 8 | Win rate: 0.812\n",
      "Epoch: 202/999 | Loss: 0.0010 | Episodes: 66 | Win rate: 0.812\n",
      "Epoch: 203/999 | Loss: 0.0012 | Episodes: 16 | Win rate: 0.812\n",
      "Epoch: 204/999 | Loss: 0.0010 | Episodes: 11 | Win rate: 0.812\n",
      "Epoch: 205/999 | Loss: 0.0013 | Episodes: 96 | Win rate: 0.812\n",
      "Epoch: 206/999 | Loss: 0.0012 | Episodes: 9 | Win rate: 0.812\n",
      "Epoch: 207/999 | Loss: 0.0014 | Episodes: 112 | Win rate: 0.812\n",
      "Epoch: 208/999 | Loss: 0.0020 | Episodes: 12 | Win rate: 0.812\n",
      "Epoch: 209/999 | Loss: 0.0006 | Episodes: 126 | Win rate: 0.844\n",
      "Epoch: 210/999 | Loss: 0.0011 | Episodes: 91 | Win rate: 0.875\n",
      "Epoch: 211/999 | Loss: 0.0019 | Episodes: 1 | Win rate: 0.906\n",
      "Epoch: 212/999 | Loss: 0.0014 | Episodes: 7 | Win rate: 0.906\n",
      "Epoch: 213/999 | Loss: 0.0012 | Episodes: 22 | Win rate: 0.906\n",
      "Epoch: 214/999 | Loss: 0.0015 | Episodes: 31 | Win rate: 0.906\n",
      "Epoch: 215/999 | Loss: 0.0018 | Episodes: 2 | Win rate: 0.906\n",
      "Epoch: 216/999 | Loss: 0.0017 | Episodes: 76 | Win rate: 0.938\n",
      "Epoch: 217/999 | Loss: 0.0021 | Episodes: 19 | Win rate: 0.938\n",
      "Epoch: 218/999 | Loss: 0.0015 | Episodes: 13 | Win rate: 0.938\n",
      "Epoch: 219/999 | Loss: 0.0018 | Episodes: 75 | Win rate: 0.938\n",
      "Epoch: 220/999 | Loss: 0.0014 | Episodes: 1 | Win rate: 0.938\n",
      "Epoch: 221/999 | Loss: 0.0005 | Episodes: 1 | Win rate: 0.969\n",
      "Epoch: 222/999 | Loss: 0.0012 | Episodes: 29 | Win rate: 0.969\n",
      "Epoch: 223/999 | Loss: 0.0009 | Episodes: 19 | Win rate: 1.000\n",
      "Epoch: 224/999 | Loss: 0.0005 | Episodes: 21 | Win rate: 1.000\n",
      "Epoch: 225/999 | Loss: 0.0014 | Episodes: 9 | Win rate: 1.000\n",
      "Epoch: 226/999 | Loss: 0.0010 | Episodes: 1 | Win rate: 1.000\n",
      "Epoch: 227/999 | Loss: 0.0008 | Episodes: 15 | Win rate: 1.000\n",
      "Epoch: 228/999 | Loss: 0.0011 | Episodes: 24 | Win rate: 1.000\n",
      "Epoch: 229/999 | Loss: 0.0011 | Episodes: 28 | Win rate: 1.000\n",
      "Epoch: 230/999 | Loss: 0.0011 | Episodes: 18 | Win rate: 1.000\n",
      "Epoch: 231/999 | Loss: 0.0007 | Episodes: 2 | Win rate: 1.000\n",
      "Epoch: 232/999 | Loss: 0.0012 | Episodes: 33 | Win rate: 1.000\n",
      "Epoch: 233/999 | Loss: 0.0008 | Episodes: 6 | Win rate: 1.000\n",
      "Epoch: 234/999 | Loss: 0.0005 | Episodes: 15 | Win rate: 1.000\n",
      "Epoch: 235/999 | Loss: 0.0008 | Episodes: 22 | Win rate: 1.000\n",
      "Epoch: 236/999 | Loss: 0.0017 | Episodes: 49 | Win rate: 1.000\n",
      "Epoch: 237/999 | Loss: 0.0010 | Episodes: 31 | Win rate: 1.000\n",
      "Epoch: 238/999 | Loss: 0.0015 | Episodes: 103 | Win rate: 1.000\n",
      "Epoch: 239/999 | Loss: 0.0008 | Episodes: 45 | Win rate: 1.000\n",
      "Epoch: 240/999 | Loss: 0.0013 | Episodes: 47 | Win rate: 1.000\n",
      "Epoch: 241/999 | Loss: 0.0013 | Episodes: 32 | Win rate: 1.000\n",
      "Epoch: 242/999 | Loss: 0.0007 | Episodes: 9 | Win rate: 1.000\n",
      "Epoch: 243/999 | Loss: 0.0013 | Episodes: 1 | Win rate: 1.000\n",
      "Epoch: 244/999 | Loss: 0.0006 | Episodes: 37 | Win rate: 1.000\n",
      "Epoch: 245/999 | Loss: 0.0011 | Episodes: 16 | Win rate: 1.000\n",
      "Epoch: 246/999 | Loss: 0.0012 | Episodes: 23 | Win rate: 1.000\n",
      "Epoch: 247/999 | Loss: 0.0012 | Episodes: 1 | Win rate: 1.000\n",
      "Epoch: 248/999 | Loss: 0.0016 | Episodes: 66 | Win rate: 1.000\n",
      "Epoch: 249/999 | Loss: 0.0016 | Episodes: 24 | Win rate: 1.000\n",
      "Epoch: 250/999 | Loss: 0.0010 | Episodes: 20 | Win rate: 1.000\n",
      "Epoch: 251/999 | Loss: 0.0005 | Episodes: 4 | Win rate: 1.000\n",
      "Epoch: 252/999 | Loss: 0.0007 | Episodes: 15 | Win rate: 1.000\n",
      "Epoch: 253/999 | Loss: 0.0012 | Episodes: 20 | Win rate: 1.000\n",
      "Epoch: 254/999 | Loss: 0.0006 | Episodes: 12 | Win rate: 1.000\n",
      "Epoch: 255/999 | Loss: 0.0010 | Episodes: 33 | Win rate: 1.000\n",
      "Epoch: 256/999 | Loss: 0.0003 | Episodes: 29 | Win rate: 1.000\n",
      "Epoch: 257/999 | Loss: 0.0010 | Episodes: 2 | Win rate: 1.000\n",
      "Epoch: 258/999 | Loss: 0.0007 | Episodes: 40 | Win rate: 1.000\n",
      "Epoch: 259/999 | Loss: 0.0006 | Episodes: 19 | Win rate: 1.000\n",
      "Epoch: 260/999 | Loss: 0.0007 | Episodes: 25 | Win rate: 1.000\n"
     ]
    },
    {
     "name": "stdout",
     "output_type": "stream",
     "text": [
      "Epoch: 261/999 | Loss: 0.0008 | Episodes: 4 | Win rate: 1.000\n",
      "Epoch: 262/999 | Loss: 0.0012 | Episodes: 12 | Win rate: 1.000\n",
      "Epoch: 263/999 | Loss: 0.0003 | Episodes: 6 | Win rate: 1.000\n",
      "Epoch: 264/999 | Loss: 0.0016 | Episodes: 54 | Win rate: 1.000\n",
      "Epoch: 265/999 | Loss: 0.0011 | Episodes: 44 | Win rate: 1.000\n",
      "Epoch: 266/999 | Loss: 0.0010 | Episodes: 0 | Win rate: 1.000\n",
      "Epoch: 267/999 | Loss: 0.0010 | Episodes: 40 | Win rate: 1.000\n",
      "Epoch: 268/999 | Loss: 0.0013 | Episodes: 10 | Win rate: 1.000\n",
      "Epoch: 269/999 | Loss: 0.0010 | Episodes: 26 | Win rate: 1.000\n",
      "Epoch: 270/999 | Loss: 0.0007 | Episodes: 36 | Win rate: 1.000\n",
      "Epoch: 271/999 | Loss: 0.0007 | Episodes: 82 | Win rate: 1.000\n",
      "Epoch: 272/999 | Loss: 0.0010 | Episodes: 7 | Win rate: 1.000\n",
      "Epoch: 273/999 | Loss: 0.0008 | Episodes: 11 | Win rate: 1.000\n",
      "Epoch: 274/999 | Loss: 0.0007 | Episodes: 33 | Win rate: 1.000\n",
      "Epoch: 275/999 | Loss: 0.0014 | Episodes: 14 | Win rate: 1.000\n",
      "Epoch: 276/999 | Loss: 0.0022 | Episodes: 0 | Win rate: 1.000\n",
      "Epoch: 277/999 | Loss: 0.0010 | Episodes: 18 | Win rate: 1.000\n",
      "Epoch: 278/999 | Loss: 0.0005 | Episodes: 77 | Win rate: 1.000\n",
      "Epoch: 279/999 | Loss: 0.0012 | Episodes: 35 | Win rate: 1.000\n",
      "Epoch: 280/999 | Loss: 0.0010 | Episodes: 0 | Win rate: 1.000\n",
      "Epoch: 281/999 | Loss: 0.0008 | Episodes: 16 | Win rate: 1.000\n",
      "Epoch: 282/999 | Loss: 0.0016 | Episodes: 0 | Win rate: 1.000\n",
      "Reached 100% win rate at epoch 282\n",
      "Training completed in 3778.439807 seconds.\n"
     ]
    },
    {
     "data": {
      "text/plain": [
       "3778.439807"
      ]
     },
     "execution_count": 22,
     "metadata": {},
     "output_type": "execute_result"
    }
   ],
   "source": [
    "model = build_model(maze)\n",
    "qtrain(model, maze, epochs=1000, max_memory=8*maze.size, data_size=32)"
   ]
  },
  {
   "cell_type": "markdown",
   "metadata": {},
   "source": [
    "This cell will check to see if the model passes the completion check. Note: This could take several minutes."
   ]
  },
  {
   "cell_type": "code",
   "execution_count": 23,
   "metadata": {},
   "outputs": [
    {
     "data": {
      "text/plain": [
       "<matplotlib.image.AxesImage at 0x28f48c93b08>"
      ]
     },
     "execution_count": 23,
     "metadata": {},
     "output_type": "execute_result"
    },
    {
     "data": {
      "image/png": "[encoded data removed]",
      "text/plain": [
       "<Figure size 432x288 with 1 Axes>"
      ]
     },
     "metadata": {
      "needs_background": "light"
     },
     "output_type": "display_data"
    }
   ],
   "source": [
    "completion_check(model, qmaze)\n",
    "show(qmaze)"
   ]
  },
  {
   "cell_type": "markdown",
   "metadata": {},
   "source": [
    "This cell will test your model for one game. It will start the pirate at the top-left corner and run play_game. The agent should find a path from the starting position to the target (treasure). The treasure is located in the bottom-right corner."
   ]
  },
  {
   "cell_type": "code",
   "execution_count": 24,
   "metadata": {},
   "outputs": [
    {
     "data": {
      "text/plain": [
       "<matplotlib.image.AxesImage at 0x28f47c1b5c8>"
      ]
     },
     "execution_count": 24,
     "metadata": {},
     "output_type": "execute_result"
    },
    {
     "data": {
      "image/png": "[encoded data removed]",
      "text/plain": [
       "<Figure size 432x288 with 1 Axes>"
      ]
     },
     "metadata": {
      "needs_background": "light"
     },
     "output_type": "display_data"
    }
   ],
   "source": [
    "pirate_start = (0, 0)\n",
    "play_game(model, qmaze, pirate_start)\n",
    "show(qmaze)"
   ]
  },
  {
   "cell_type": "markdown",
   "metadata": {},
   "source": [
    "## Save and Submit Your Work\n",
    "After you have finished creating the code for your notebook, save your work. Make sure that your notebook contains your name in the filename (e.g. Doe_Jane_ProjectTwo.ipynb). This will help your instructor access and grade your work easily. Download a copy of your IPYNB file and submit it to Brightspace. Refer to the Jupyter Notebook in Apporto Tutorial if you need help with these tasks."
   ]
  }
 ],
 "metadata": {
  "kernelspec": {
   "display_name": "Python 3",
   "language": "python",
   "name": "python3"
  },
  "language_info": {
   "codemirror_mode": {
    "name": "ipython",
    "version": 3
   },
   "file_extension": ".py",
   "mimetype": "text/x-python",
   "name": "python",
   "nbconvert_exporter": "python",
   "pygments_lexer": "ipython3",
   "version": "3.7.4"
  }
 },
 "nbformat": 4,
 "nbformat_minor": 2
}
